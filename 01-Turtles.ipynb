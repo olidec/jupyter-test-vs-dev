{
 "cells": [
  {
   "attachments": {
    "example.png": {
     "image/png": "[encoded data removed]"
    }
   },
   "cell_type": "markdown",
   "metadata": {},
   "source": [
    "# An Introduction to Computer Science using Turtle Graphics\n",
    "\n",
    "A common task in Computer Science is to communicate with the computer or in\n",
    "alternatively with a robot. For students who are new to Computer Science so called *Turtle Graphics* are a very useful tool to learn the basics of programming. You may have already encountered similar concepts in your secondary schools.\n",
    "\n",
    "In *Turtle Graphics* the goal of the student is to give some instructions to a\n",
    "turtle, who then executes these instructions. To make this more interesting, the\n",
    "turtle holds a pen that draws lines when the turtle moves. Common instructions\n",
    "for the turtle are to move forward by a certain amount or to turn counter\n",
    "clockwise by a given angle. Even with only these two instructions, there are already\n",
    "many interesting graphics that we can draw:\n",
    "![example.png](attachment:example.png)"
   ]
  },
  {
   "cell_type": "markdown",
   "metadata": {},
   "source": [
    "## Jupyter Notebooks\n",
    "\n",
    "The document you are looking at is called a **Jupyter Notebook**. It is an interactive document that can run Python code. In Jupyter Notebooks we have so called **cells**. These are blocks of text that can have different functions. For example, you are currently reading a **text\n",
    "cell**. This is a cell that just presents text as it is typed. There are also a  **code cells**. The text in code cells in interpreted as instructions for the computer and is then executed.\n",
    "\n",
    "To execute the code in a code cell, we first select (= click into) the cell we want to execute. When the cell is selected, you can find\n",
    "a button near the top of the page that says `Run`. When you click this button,\n",
    "the cell that you have currently selected will be executed. If you prefer\n",
    "keyboard shortcuts you can also select the cell and press `ctrl` + `Enter`.\n",
    "\n"
   ]
  },
  {
   "cell_type": "markdown",
   "metadata": {},
   "source": [
    "### A First Example\n",
    "This is the first program, we will run:\n",
    "\n",
    "```python\n",
    "from gymmu.turtle import *\n",
    "\n",
    "make_turtle()\n",
    "\n",
    "forward(50)\n",
    "turn(60)\n",
    "forward(100)\n",
    "\n",
    "show()\n",
    "```"
   ]
  },
  {
   "cell_type": "markdown",
   "metadata": {},
   "source": [
    "## The Structure of Code\n",
    "\n",
    "In order for the computer to understand us properly, we have to write code in a very specific manner - this is known as **syntax**. For example all the code we use on this page has a so called **header** that is written before the commands that are executed:\n",
    "\n",
    "`from gymmu.turtle import *`\n",
    "\n",
    "> This loads the commands we need to move the turtle\n",
    "\n",
    "`make_turtle()`\n",
    "\n",
    "> This creates a new turtle\n",
    "\n",
    "Finally, after all of our instructions are executed the command\n",
    "\n",
    "`show()`\n",
    "\n",
    "> draws the graphic that the turtle has created. This can also be used to show intermediate positions of the turtle. This is useful when trying to find errors in your code.\n",
    "\n",
    "Text with a 'hashtag' in front of it, is a 'comment.\n",
    "\n",
    "`# This is a comment`\n",
    "\n",
    "> This text is ignored by the computer, but is still visible for us. Comments allow us to explain what a particular line or block of code does. This is very useful when working in a group."
   ]
  },
  {
   "cell_type": "markdown",
   "metadata": {},
   "source": [
    "## First Steps\n",
    "\n",
    "We will start with two basic commands: `forward` and `turn`. As we progress we will learn more and more commands. This will then allow us to draw more complex images with more efficiency. However, to begin will just look at the following commands:\n",
    "\n",
    "`forward(x)`\n",
    "> Move forward 'x' pixels. Note that forward always refers to the point of view of the turtle. To move backwards enter a negative number. Note that moving backwards does not change the direction the turtle is facing.\n",
    "\n",
    "`turn(a)`\n",
    "> Rotate the turtle by 'a' degrees in counter clockwise diirection. to rotate the turtle clockwise, you can enter a negative angle."
   ]
  },
  {
   "cell_type": "markdown",
   "metadata": {},
   "source": [
    "### <span style=\"color: jungle green\"> Example </span>"
   ]
  },
  {
   "cell_type": "code",
   "execution_count": 2,
   "id": "143710e9",
   "metadata": {
    "scrolled": true
   },
   "outputs": [
    {
     "data": {
      "application/vnd.jupyter.widget-view+json": {
       "model_id": "59e76902f46b4242a98729791f9662b7",
       "version_major": 2,
       "version_minor": 0
      },
      "text/plain": [
       "Canvas(height=400, sync_image_data=True, width=400)"
      ]
     },
     "execution_count": 2,
     "metadata": {},
     "output_type": "execute_result"
    }
   ],
   "source": [
    "# To import functions from a Python file inside a folder (for example, from folder/mymodule.py), use:\n",
    "# from folder.mymodule import function_name\n",
    "# or to import everything:\n",
    "# from folder.mymodule import *\n",
    "from gymmu.turtle import *\n",
    "\n",
    "make_turtle()\n",
    "\n",
    "forward(50)\n",
    "# This moves the turtle 50 pixels forward.\n",
    "turn(60)\n",
    "# This rotates the turtle by 60 degrees in counter clockwise direction.\n",
    "forward(100)\n",
    "# This moves the turtle 100 pixels forward.\n",
    "\n",
    "show()"
   ]
  },
  {
   "cell_type": "markdown",
   "id": "ac78911c",
   "metadata": {},
   "source": [
    "### <span style=\"color: blue\"> Exercise </span>\n",
    "> Look at the resulting image above. Where did the turtle start? Where did it end? In which direction is the turtle facing?\n"
   ]
  },
  {
   "cell_type": "markdown",
   "id": "e4594bfe",
   "metadata": {},
   "source": [
    "## Your Turn\n",
    "\n",
    "Let's pass some first instructions to a turtle. You can find a code cell\n",
    "directly below this text. The cell has already some code inside, so we can just\n",
    "execute the cell and see what happens."
   ]
  },
  {
   "cell_type": "code",
   "execution_count": 3,
   "id": "ff464e3b",
   "metadata": {},
   "outputs": [
    {
     "data": {
      "application/vnd.jupyter.widget-view+json": {
       "model_id": "629d9389d74d4857a20aa2c417aa3715",
       "version_major": 2,
       "version_minor": 0
      },
      "text/plain": [
       "Canvas(height=400, sync_image_data=True, width=400)"
      ]
     },
     "execution_count": 3,
     "metadata": {},
     "output_type": "execute_result"
    }
   ],
   "source": [
    "from gymmu.turtle import *\n",
    "\n",
    "make_turtle()\n",
    "\n",
    "color(\"blue\")\n",
    "forward(50)\n",
    "turn(30)\n",
    "forward(50)\n",
    "\n",
    "show()"
   ]
  },
  {
   "cell_type": "markdown",
   "id": "1a1eb457",
   "metadata": {},
   "source": [
    "After executing the cell, you should see some lines and a small graphic representation of the turtle. This is the result of the instructions we gave to the turtle. You can change the instructions in the code cell\n",
    "from line 5 to 7. After changing the instructions, you have to execute the cell\n",
    "again, so that the turtle can follow the new instructions.\n",
    "\n",
    "You can also add more instructions, just by adding a few more lines. You can\n",
    "also play around with this and try to draw a rectangle or even more complex\n",
    "shapes like a triangle."
   ]
  },
  {
   "cell_type": "markdown",
   "id": "34bbe471",
   "metadata": {},
   "source": [
    "### <span style=\"color: blue\"> Exercise </span>\n",
    "> Play around with the turtle. Can you make the turtle leave the image? How far can it walk before it reaches the edge?"
   ]
  },
  {
   "cell_type": "markdown",
   "id": "18f9da74",
   "metadata": {},
   "source": [
    "## Making Errors/Debugging\n",
    "\n",
    "The nice thing in Computer Science is that you can observe what you are doing.\n",
    "With the turtle is is very easy to give some new instructions and to verify\n",
    "that the instructions are correct, you can just execute the code. This is very\n",
    "important and should be done very often. Make it a habit to make small changes\n",
    "and execute them to see if they work as intended!\n",
    "\n",
    "It is also very common to make small errors in your code, and the code does not\n",
    "work as you intended. So it is also very important to understand what is\n",
    "happening here.\n",
    "\n",
    "The first thing you should know is that there is something called **syntax**. A\n",
    "**syntax** defines how a language can be read. Since a computer can only follow\n",
    "very strict rules, it is very important to get the **syntax** correct,\n",
    "otherwise the computer does not know what you want to tell it. On close\n",
    "observation you can see that numbers after `forward` and `turn` are in\n",
    "parentheses `()`. This is part of the **syntax** and very important for the\n",
    "computer. You can try what happens if you leave them away.\n",
    "\n",
    "Another type of error is the **semantic** error. A **semantic** error does not\n",
    "lead to a crash of the program, but the program does not behave how you\n",
    "intended it. **Semantic** errors are quite common and sometimes very hard to\n",
    "spot. To spot a **semantic** error, you have to understand the program\n",
    "completely.\n",
    "\n",
    "It is very easy to make **semantic** errors in the code above, since we have\n",
    "not discussed it in detail. I.e. maybe you added the new instructions at the\n",
    "end of the cell, after the line with `show()`. This would be perfectly fine,\n",
    "but it does not lead to the intended behavior. We want the turtle to execute\n",
    "all the code, and then show the image it drew. If we add the instructions after\n",
    "the line with `show()` you can see that these instructions are not drawn onto\n",
    "the image. You can check that for yourself, just add some instructions before\n",
    "and after the line with `show()` and execute the cell.\n",
    "\n",
    "You can make the same **semantic** error when you give the instructions to the\n",
    "turtle before the line with `make_turtle()`. You can also verify this behaviour\n",
    "for yourself.\n",
    "\n",
    "The process of going through the code and trying to find the errors is known as **debugging** and can be quit difficult if you have a lot of code. The trick is to try to isolate the code blocks that have errors in them from the ones that don’t work and then work your way towards the individual errors."
   ]
  },
  {
   "cell_type": "markdown",
   "id": "f326fecf",
   "metadata": {},
   "source": [
    "## More Instructions\n",
    "\n",
    "To create some complex images we need more instructions that we can give to the\n",
    "turtle. As usually in Computer Science the names of these instructions should\n",
    "be pretty self explanatory. So we just provide a list with the rest of the\n",
    "instructions, without explaining what they do.\n",
    "\n",
    "- `pen_up()`\n",
    "- `pen_down()`\n",
    "- `clear()`\n",
    "- `reset()`\n",
    "- `color('black')`\n",
    "- `stroke_width(2)`\n",
    "\n",
    "Just below this, you can find another code cell, where you can play around with\n",
    "the new commands. This is a common scenario in Computer Science, where you have\n",
    "to build the intuition for the behavior of the code."
   ]
  },
  {
   "cell_type": "code",
   "execution_count": 4,
   "id": "a7360a51",
   "metadata": {},
   "outputs": [
    {
     "data": {
      "application/vnd.jupyter.widget-view+json": {
       "model_id": "f9dd03c55e614cc29c6aed479ceb78d1",
       "version_major": 2,
       "version_minor": 0
      },
      "text/plain": [
       "Canvas(height=400, sync_image_data=True, width=400)"
      ]
     },
     "execution_count": 4,
     "metadata": {},
     "output_type": "execute_result"
    }
   ],
   "source": [
    "from gymmu.turtle import *\n",
    "\n",
    "make_turtle()\n",
    "\n",
    "# TODO: add your instructions here!\n",
    "\n",
    "show()"
   ]
  },
  {
   "cell_type": "markdown",
   "id": "55f1614a",
   "metadata": {},
   "source": [
    "### A Brief note on Colors\n",
    "Colors are created in our brains when light of different wavelangths hit our retinas. There we (normally) have three diifferent types of receptors that can each recognize a different basic color (red, green or blue). Every color is therefore a combination of these three basic (or primary) colors.\n",
    "\n",
    "IIf we only want a few different colors, we can use the predfined colors in the browser. A full list of the predefined colors can be found here: https://www.w3schools.com/colors/colors_names.asp\n",
    "\n",
    "If we need different colors or want a specific shade we have to use an RGB (for red, green and blue) value. This is usually written as a six-digit **hexcode** (e.g. `#00FF00` or `#A01BC9`). We will look at these in more detail later. For now just note that the first two digits tell us how much red, the second two digits tell us how much green and the third two digits tell us how much blue to include."
   ]
  },
  {
   "cell_type": "markdown",
   "id": "6768df87",
   "metadata": {},
   "source": [
    "### <span style=\"color: blue\"> Exercise </span>\n",
    "> Draw a picture  of a house using the commands you learned above. You can use the code block below."
   ]
  },
  {
   "cell_type": "code",
   "execution_count": 5,
   "id": "52804262",
   "metadata": {},
   "outputs": [
    {
     "data": {
      "application/vnd.jupyter.widget-view+json": {
       "model_id": "b5ba90b4d140405794269bf1aa949399",
       "version_major": 2,
       "version_minor": 0
      },
      "text/plain": [
       "Canvas(height=400, sync_image_data=True, width=400)"
      ]
     },
     "execution_count": 5,
     "metadata": {},
     "output_type": "execute_result"
    }
   ],
   "source": [
    "from gymmu.turtle import *\n",
    "\n",
    "make_turtle()\n",
    "\n",
    "# Your code goes here\n",
    "\n",
    "show()"
   ]
  },
  {
   "cell_type": "markdown",
   "id": "7d5a10ec",
   "metadata": {},
   "source": [
    "### <span style=\"color: jungle green\"> Example </span>\n",
    "Let's take a look at the following code:"
   ]
  },
  {
   "cell_type": "code",
   "execution_count": 6,
   "id": "4c3a4d88",
   "metadata": {},
   "outputs": [
    {
     "data": {
      "application/vnd.jupyter.widget-view+json": {
       "model_id": "9af0cd150e244a159cf1e7ce8bab7de2",
       "version_major": 2,
       "version_minor": 0
      },
      "text/plain": [
       "Canvas(height=400, sync_image_data=True, width=400)"
      ]
     },
     "execution_count": 6,
     "metadata": {},
     "output_type": "execute_result"
    }
   ],
   "source": [
    "from gymmu.turtle import *\n",
    "\n",
    "make_turtle()\n",
    "\n",
    "pen_up()\n",
    "forward(-170)\n",
    "pen_down()\n",
    "\n",
    "forward(50)\n",
    "turn(90)\n",
    "forward(50)\n",
    "turn(90)\n",
    "forward(50)\n",
    "turn(90)\n",
    "forward(50)\n",
    "turn(90)\n",
    "\n",
    "pen_up()\n",
    "forward(150)\n",
    "pen_down()\n",
    "\n",
    "forward(50)\n",
    "turn(90)\n",
    "forward(50)\n",
    "turn(90)\n",
    "forward(50)\n",
    "turn(90)\n",
    "forward(50)\n",
    "turn(90)\n",
    "\n",
    "pen_up()\n",
    "forward(150)\n",
    "pen_down()\n",
    "\n",
    "forward(50)\n",
    "turn(90)\n",
    "forward(50)\n",
    "turn(90)\n",
    "forward(50)\n",
    "turn(90)\n",
    "forward(50)\n",
    "turn(90)\n",
    "\n",
    "show()"
   ]
  },
  {
   "cell_type": "code",
   "execution_count": null,
   "id": "04af9db0",
   "metadata": {},
   "outputs": [],
   "source": []
  },
  {
   "cell_type": "markdown",
   "id": "3348a973",
   "metadata": {},
   "source": [
    "This result was achieved by copying and pasting the code blocks multiple times to get the desired result of three squares. Looking at the code, we can see that it is quite long and seems a bit unwieldy. Also for example if we wanted to change the squares into triangles, we would have to change each block by hand. \n",
    "\n",
    "This seems ineffiecient. In fact there are many tricks and techniques that will allow us to make these drawings more quickly and with more adaptabiliity."
   ]
  },
  {
   "cell_type": "markdown",
   "id": "204810b9",
   "metadata": {},
   "source": [
    "## Shortcuts (Functions)\n",
    "\n",
    "In computer science shortcuts are a way of reusing code multiple times. For 'reasons' these aren’t called shortcuts but **functions**. Functions are a computers way of saving a sequence of commands that can be reused later.\n",
    "\n",
    "In python functions have the following structure\n",
    "\n",
    "```python\n",
    "def name():\n",
    "    instructions\n",
    "    instructions\n",
    "    instructions\n",
    "```\n",
    "It is important the the instructions are indented in this manner (The exact number of spaces is not important, but they all have to be indented by the same amount). Use the tab key to indent by four spaces automatiically.\n",
    "\n",
    "Using this idea of a shortcut (or function) we can now write the code above as follows:"
   ]
  },
  {
   "cell_type": "code",
   "execution_count": 7,
   "id": "1ad63411",
   "metadata": {},
   "outputs": [
    {
     "data": {
      "application/vnd.jupyter.widget-view+json": {
       "model_id": "a4f730449ef74cbc9ecceb53fe17ba14",
       "version_major": 2,
       "version_minor": 0
      },
      "text/plain": [
       "Canvas(height=400, sync_image_data=True, width=400)"
      ]
     },
     "execution_count": 7,
     "metadata": {},
     "output_type": "execute_result"
    }
   ],
   "source": [
    "from gymmu.turtle import *\n",
    "\n",
    "def draw_square():\n",
    "    forward(50)\n",
    "    turn(90)\n",
    "    forward(50)\n",
    "    turn(90)\n",
    "    forward(50)\n",
    "    turn(90)\n",
    "    forward(50)\n",
    "    turn(90)\n",
    "\n",
    "make_turtle()\n",
    "\n",
    "pen_up()\n",
    "forward(-170)\n",
    "pen_down()\n",
    "\n",
    "draw_square()\n",
    "\n",
    "pen_up()\n",
    "forward(150)\n",
    "pen_down()\n",
    "\n",
    "draw_square()\n",
    "\n",
    "pen_up()\n",
    "forward(150)\n",
    "pen_down()\n",
    "\n",
    "draw_square()\n",
    "\n",
    "show()"
   ]
  },
  {
   "cell_type": "code",
   "execution_count": null,
   "id": "f1a67e24",
   "metadata": {},
   "outputs": [],
   "source": []
  },
  {
   "cell_type": "markdown",
   "id": "daca5642",
   "metadata": {},
   "source": [
    "This code is already much more readable and structured. We can now use this square drawing function to draw many different piictures."
   ]
  },
  {
   "cell_type": "code",
   "execution_count": 8,
   "id": "d7c09051",
   "metadata": {},
   "outputs": [
    {
     "data": {
      "application/vnd.jupyter.widget-view+json": {
       "model_id": "8d6167d7a1fc484182740b8f439005b2",
       "version_major": 2,
       "version_minor": 0
      },
      "text/plain": [
       "Canvas(height=400, sync_image_data=True, width=400)"
      ]
     },
     "execution_count": 8,
     "metadata": {},
     "output_type": "execute_result"
    }
   ],
   "source": [
    "from gymmu.turtle import *\n",
    "\n",
    "def draw_square():\n",
    "    forward(50)\n",
    "    turn(90)\n",
    "    forward(50)\n",
    "    turn(90)\n",
    "    forward(50)\n",
    "    turn(90)\n",
    "    forward(50)\n",
    "    turn(90)\n",
    "\n",
    "make_turtle()\n",
    "\n",
    "color('aquamarine')\n",
    "\n",
    "draw_square()\n",
    "turn(60)\n",
    "draw_square()\n",
    "turn(60)\n",
    "draw_square()\n",
    "turn(60)\n",
    "draw_square()\n",
    "turn(60)\n",
    "draw_square()\n",
    "turn(60)\n",
    "draw_square()\n",
    "turn(60)\n",
    "\n",
    "\n",
    "show()"
   ]
  },
  {
   "cell_type": "markdown",
   "id": "8e78bfa7",
   "metadata": {},
   "source": [
    "### <span style=\"color: blue\"> Exercise </span>\n",
    "> Write a function that draws an equilateral triangle with sides 50. Use this function to make some nice patterns."
   ]
  },
  {
   "cell_type": "markdown",
   "id": "8859694d",
   "metadata": {},
   "source": [
    "### <span style=\"color: jungle green\"> Example </span>\n",
    "Let's look at the following code and image:"
   ]
  },
  {
   "cell_type": "code",
   "execution_count": 9,
   "id": "6f5feb52",
   "metadata": {},
   "outputs": [
    {
     "data": {
      "application/vnd.jupyter.widget-view+json": {
       "model_id": "76c64454dbdc402f81cb65113ca79434",
       "version_major": 2,
       "version_minor": 0
      },
      "text/plain": [
       "Canvas(height=400, sync_image_data=True, width=400)"
      ]
     },
     "execution_count": 9,
     "metadata": {},
     "output_type": "execute_result"
    }
   ],
   "source": [
    "from gymmu.turtle import *\n",
    "\n",
    "def draw_square_50():\n",
    "    forward(50)\n",
    "    turn(90)\n",
    "    forward(50)\n",
    "    turn(90)\n",
    "    forward(50)\n",
    "    turn(90)\n",
    "    forward(50)\n",
    "    turn(90)\n",
    "    \n",
    "def draw_square_100():\n",
    "    forward(100)\n",
    "    turn(90)\n",
    "    forward(100)\n",
    "    turn(90)\n",
    "    forward(100)\n",
    "    turn(90)\n",
    "    forward(100)\n",
    "    turn(90)\n",
    "    \n",
    "def draw_square_75():\n",
    "    forward(75)\n",
    "    turn(90)\n",
    "    forward(75)\n",
    "    turn(90)\n",
    "    forward(75)\n",
    "    turn(90)\n",
    "    forward(75)\n",
    "    turn(90)\n",
    "\n",
    "make_turtle()\n",
    "\n",
    "pen_up()\n",
    "forward(-170)\n",
    "pen_down()\n",
    "\n",
    "draw_square_50()\n",
    "\n",
    "pen_up()\n",
    "forward(100)\n",
    "pen_down()\n",
    "\n",
    "draw_square_100()\n",
    "\n",
    "pen_up()\n",
    "forward(150)\n",
    "pen_down()\n",
    "\n",
    "draw_square_75()\n",
    "\n",
    "show()"
   ]
  },
  {
   "cell_type": "markdown",
   "id": "14c7e8a3",
   "metadata": {},
   "source": [
    "Again, there must be an easier way to draw the same shape in three different sizes..."
   ]
  },
  {
   "cell_type": "markdown",
   "id": "722cb2be",
   "metadata": {},
   "source": [
    "## Parameters\n",
    "A **parameter** is a number that is given when calling a function. It is also sometimes called the **argument** of the function:\n",
    "```python\n",
    "def name(a):\n",
    "    instructions\n",
    "    instructions\n",
    "    instructions\n",
    "```\n",
    "Here the `a` is a parameter of the function `name` and we can call the function `name` with different values of `a`."
   ]
  },
  {
   "cell_type": "code",
   "execution_count": 10,
   "id": "594ec389",
   "metadata": {},
   "outputs": [
    {
     "data": {
      "application/vnd.jupyter.widget-view+json": {
       "model_id": "1111abd843ae46d9bc231223625ef4e3",
       "version_major": 2,
       "version_minor": 0
      },
      "text/plain": [
       "Canvas(height=400, sync_image_data=True, width=400)"
      ]
     },
     "execution_count": 10,
     "metadata": {},
     "output_type": "execute_result"
    }
   ],
   "source": [
    "from gymmu.turtle import *\n",
    "\n",
    "def draw_square(a):\n",
    "    forward(a)\n",
    "    turn(90)\n",
    "    forward(a)\n",
    "    turn(90)\n",
    "    forward(a)\n",
    "    turn(90)\n",
    "    forward(a)\n",
    "    turn(90)\n",
    "\n",
    "\n",
    "make_turtle()\n",
    "\n",
    "pen_up()\n",
    "forward(-170)\n",
    "pen_down()\n",
    "\n",
    "draw_square(50)\n",
    "\n",
    "pen_up()\n",
    "forward(100)\n",
    "pen_down()\n",
    "\n",
    "draw_square(100)\n",
    "\n",
    "pen_up()\n",
    "forward(150)\n",
    "pen_down()\n",
    "\n",
    "draw_square(75)\n",
    "\n",
    "show()"
   ]
  },
  {
   "cell_type": "markdown",
   "id": "3d88a5f2",
   "metadata": {},
   "source": [
    "Much better! Here the `a` stands for the length of the sides of the squares and can be changed every time we call the function `draw_square`."
   ]
  },
  {
   "cell_type": "markdown",
   "id": "63fa874b",
   "metadata": {},
   "source": [
    "## Repeating Commands (Loops)\n",
    "\n",
    "You may have noticed that in the example above the function just contains multiple repetitions of the sequence\n",
    "```python\n",
    "forward(50)\n",
    "turn(90)\n",
    "```\n",
    "As before there is an elegant way for writing this code in a shorter fashion. IIn this case we call these **loops**. A loop in computer science is a set of commands that is executed until a specific condition is met.\n",
    "\n",
    "In python loops are defined as follows:\n",
    "```python\n",
    "for i in range(n):\n",
    "    instructions\n",
    "    instructions\n",
    "    instructions\n",
    "```\n",
    "Here there will be n repetitions of the commands defined in the instructions. Usinig this we can now shorten our code from above even more (please note the double indentation):"
   ]
  },
  {
   "cell_type": "code",
   "execution_count": 11,
   "id": "c8142fa2",
   "metadata": {},
   "outputs": [
    {
     "data": {
      "application/vnd.jupyter.widget-view+json": {
       "model_id": "a10222a0e02d4068b0974e02b05c221a",
       "version_major": 2,
       "version_minor": 0
      },
      "text/plain": [
       "Canvas(height=400, sync_image_data=True, width=400)"
      ]
     },
     "execution_count": 11,
     "metadata": {},
     "output_type": "execute_result"
    }
   ],
   "source": [
    "from gymmu.turtle import *\n",
    "\n",
    "def draw_square(a):\n",
    "    for i in range(4):\n",
    "        forward(a)\n",
    "        turn(90)\n",
    "\n",
    "make_turtle()\n",
    "\n",
    "pen_up()\n",
    "forward(-170)\n",
    "pen_down()\n",
    "\n",
    "draw_square(50)\n",
    "\n",
    "pen_up()\n",
    "forward(150)\n",
    "pen_down()\n",
    "\n",
    "draw_square(50)\n",
    "\n",
    "pen_up()\n",
    "forward(150)\n",
    "pen_down()\n",
    "\n",
    "draw_square(50)\n",
    "\n",
    "show()"
   ]
  },
  {
   "cell_type": "markdown",
   "id": "b86777ee",
   "metadata": {},
   "source": [
    "We can go even further and use the for loop a second time:"
   ]
  },
  {
   "cell_type": "code",
   "execution_count": 12,
   "id": "9f249cbf",
   "metadata": {},
   "outputs": [
    {
     "data": {
      "application/vnd.jupyter.widget-view+json": {
       "model_id": "0c647982a9e74b31a12eb0fe673e26bb",
       "version_major": 2,
       "version_minor": 0
      },
      "text/plain": [
       "Canvas(height=400, sync_image_data=True, width=400)"
      ]
     },
     "execution_count": 12,
     "metadata": {},
     "output_type": "execute_result"
    }
   ],
   "source": [
    "from gymmu.turtle import *\n",
    "\n",
    "def draw_square(a):\n",
    "    for i in range(4):\n",
    "        forward(a)\n",
    "        turn(90)\n",
    "\n",
    "make_turtle()\n",
    "\n",
    "pen_up()\n",
    "forward(-170)\n",
    "pen_down()\n",
    "\n",
    "for i in range(3):\n",
    "    draw_square(50)\n",
    "\n",
    "    pen_up()\n",
    "    forward(150)\n",
    "    pen_down()\n",
    "\n",
    "show()"
   ]
  },
  {
   "cell_type": "markdown",
   "id": "4a579acc",
   "metadata": {},
   "source": [
    "We can go even further with the idea of shortening our code using functions. Basically, any time we use the same or simiilar code multiple times it may be useful to write a function:"
   ]
  },
  {
   "cell_type": "code",
   "execution_count": 13,
   "id": "a61c3e40",
   "metadata": {},
   "outputs": [
    {
     "data": {
      "application/vnd.jupyter.widget-view+json": {
       "model_id": "d1a1f613f61b4869aeae142600c13ff6",
       "version_major": 2,
       "version_minor": 0
      },
      "text/plain": [
       "Canvas(height=400, sync_image_data=True, width=400)"
      ]
     },
     "execution_count": 13,
     "metadata": {},
     "output_type": "execute_result"
    }
   ],
   "source": [
    "from gymmu.turtle import *\n",
    "\n",
    "def draw_square(a):\n",
    "    for i in range(4):\n",
    "        forward(a)\n",
    "        turn(90)\n",
    "\n",
    "def jump(b):\n",
    "    pen_up()\n",
    "    forward(b)\n",
    "    pen_down()\n",
    "        \n",
    "make_turtle()\n",
    "\n",
    "jump(-170)\n",
    "\n",
    "for i in range(3):\n",
    "    draw_square(50)\n",
    "    jump(150)\n",
    "\n",
    "show()"
   ]
  },
  {
   "cell_type": "markdown",
   "id": "66df99c2",
   "metadata": {},
   "source": [
    "### <span style=\"color: blue\"> Exercise </span>\n",
    "> Why is the turtle no longer visible in the last image?"
   ]
  },
  {
   "cell_type": "markdown",
   "id": "89586772",
   "metadata": {},
   "source": [
    "### <span style=\"color: blue\"> Exercise </span>\n",
    "> Write a function that takes a parameter 'n' and draws a regular polygon with n sides of length 50. (A square is a regular polygon with 4 sides etc.)\n",
    ">\n",
    "> Additional exercise: Allow the function to take an additional parameter defining the length of the sides."
   ]
  },
  {
   "cell_type": "markdown",
   "id": "b0a83718",
   "metadata": {},
   "source": [
    "### <span style=\"color: blue\"> Exercise </span>\n",
    "> Write a function draw_triangle() and a function draw_square() to create the following image:\n",
    "> <img src=\"res/three_houses.png\">"
   ]
  },
  {
   "cell_type": "markdown",
   "id": "b22471b3",
   "metadata": {},
   "source": [
    "## Random Walks\n",
    "Randomness is an important concept in computer science and we will look into it more deeply later. However, for the moment we can use built in random generators to create images and patterns.\n",
    "\n",
    "The python command `randint(a,b)` takes two integers a and b as the input and gives a random number between a and b (both included) as the output. In order to use the command we have to import it from a so called 'library'.:\n",
    "```python\n",
    "from random import randint\n",
    "```\n",
    "Below you can see an example of a random walk. In each step the direction of the turtle is randomly chosen between up, down, left or right. Then the turtle moves 15 pixels in that direction."
   ]
  },
  {
   "cell_type": "markdown",
   "id": "74fd0b47",
   "metadata": {},
   "source": [
    "### <span style=\"color: jungle green\"> Example </span>"
   ]
  },
  {
   "cell_type": "code",
   "execution_count": 14,
   "id": "00480702",
   "metadata": {},
   "outputs": [
    {
     "data": {
      "application/vnd.jupyter.widget-view+json": {
       "model_id": "251ef01aa9624ce2a156ff40e73f1c50",
       "version_major": 2,
       "version_minor": 0
      },
      "text/plain": [
       "Canvas(height=400, sync_image_data=True, width=400)"
      ]
     },
     "execution_count": 14,
     "metadata": {},
     "output_type": "execute_result"
    }
   ],
   "source": [
    "from gymmu.turtle import *\n",
    "from random import randint\n",
    "\n",
    "make_turtle()\n",
    "\n",
    "for i in range(300):\n",
    "    turn(randint(0,3)*90)\n",
    "    forward(15)\n",
    "\n",
    "\n",
    "show()"
   ]
  },
  {
   "cell_type": "code",
   "execution_count": 15,
   "id": "21c8bcca",
   "metadata": {},
   "outputs": [
    {
     "data": {
      "application/vnd.jupyter.widget-view+json": {
       "model_id": "4d0404fd3a9b42dd8b7f087318dc17d1",
       "version_major": 2,
       "version_minor": 0
      },
      "text/plain": [
       "Canvas(height=400, sync_image_data=True, width=400)"
      ]
     },
     "execution_count": 15,
     "metadata": {},
     "output_type": "execute_result"
    }
   ],
   "source": [
    "from gymmu.turtle import *\n",
    "from random import randint\n",
    "\n",
    "make_turtle()\n",
    "\n",
    "for i in range(300):\n",
    "    x=randint(1,3)\n",
    "    turn(x*90)\n",
    "    forward(15)\n",
    "\n",
    "\n",
    "show()"
   ]
  },
  {
   "cell_type": "markdown",
   "id": "890f7135",
   "metadata": {},
   "source": [
    "We can now use this idea to draw some random squares"
   ]
  },
  {
   "cell_type": "code",
   "execution_count": 16,
   "id": "ff392a2c",
   "metadata": {},
   "outputs": [
    {
     "data": {
      "application/vnd.jupyter.widget-view+json": {
       "model_id": "09cf6bd209eb42229d86175f1d5600aa",
       "version_major": 2,
       "version_minor": 0
      },
      "text/plain": [
       "Canvas(height=400, sync_image_data=True, width=400)"
      ]
     },
     "execution_count": 16,
     "metadata": {},
     "output_type": "execute_result"
    }
   ],
   "source": [
    "from gymmu.turtle import *\n",
    "from random import randint\n",
    "\n",
    "def draw_square(a):\n",
    "    for i in range(4):\n",
    "        forward(a)\n",
    "        turn(90)\n",
    "\n",
    "def jump(b):\n",
    "    pen_up()\n",
    "    forward(b)\n",
    "    pen_down()\n",
    "        \n",
    "make_turtle()\n",
    "\n",
    "jump(-170)\n",
    "\n",
    "for i in range(3):\n",
    "    x=randint(1,5)\n",
    "    draw_square(x*10)\n",
    "    jump(150)\n",
    "\n",
    "show()"
   ]
  }
 ],
 "metadata": {
  "kernelspec": {
   "display_name": "Python 3",
   "language": "python",
   "name": "python3"
  },
  "language_info": {
   "codemirror_mode": {
    "name": "ipython",
    "version": 3
   },
   "file_extension": ".py",
   "mimetype": "text/x-python",
   "name": "python",
   "nbconvert_exporter": "python",
   "pygments_lexer": "ipython3",
   "version": "3.11.13"
  }
 },
 "nbformat": 4,
 "nbformat_minor": 5
}
