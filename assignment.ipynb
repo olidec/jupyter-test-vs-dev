{
  "cells": [
    {
      "cell_type": "markdown",
      "id": "57f1beaf",
      "metadata": {},
      "source": [
        "# Introduction"
      ]
    },
    {
      "cell_type": "code",
      "execution_count": 1,
      "id": "ec6aec73",
      "metadata": {
        "jupyter": {
          "source-hidden": true
        }
      },
      "outputs": [],
      "source": [
        "# Import necessary libraries\n",
        "import ipywidgets as widgets\n",
        "from IPython.display import display\n",
        "import subprocess\n",
        "from datetime import datetime\n",
        "from zoneinfo import ZoneInfo"
      ]
    },
    {
      "cell_type": "markdown",
      "id": "c7f610e2",
      "metadata": {},
      "source": [
        "## First Steps in Coding\n",
        "\n",
        "For reasons no one really understands, the first code one writes in a new programming language the first code you write is usually 'Hello World'. In Python the code for that is `print('Hello World')`. This outputs the text 'Hello World' to the standard output."
      ]
    },
    {
      "cell_type": "code",
      "execution_count": 2,
      "id": "b30e7f05",
      "metadata": {},
      "outputs": [
        {
          "name": "stdout",
          "output_type": "stream",
          "text": [
            "Hello World\n"
          ]
        }
      ],
      "source": [
        "print(\"Hello World\")"
      ]
    },
    {
      "cell_type": "markdown",
      "id": "fead2154",
      "metadata": {},
      "source": [
        "This is some new text"
      ]
    },
    {
      "cell_type": "code",
      "execution_count": 3,
      "id": "7161601c",
      "metadata": {},
      "outputs": [
        {
          "data": {
            "text/plain": [
              "4"
            ]
          },
          "execution_count": 3,
          "metadata": {},
          "output_type": "execute_result"
        }
      ],
      "source": [
        "2+2"
      ]
    },
    {
      "cell_type": "code",
      "execution_count": 4,
      "id": "40edf23d",
      "metadata": {},
      "outputs": [
        {
          "name": "stdout",
          "output_type": "stream",
          "text": [
            "0\n",
            "1\n",
            "2\n",
            "3\n"
          ]
        }
      ],
      "source": [
        "for i in range(4):\n",
        "    print(i)"
      ]
    },
    {
      "cell_type": "code",
      "execution_count": 6,
      "id": "566503f2",
      "metadata": {},
      "outputs": [
        {
          "ename": "ImportError",
          "evalue": "libEGL.so.1: cannot open shared object file: No such file or directory",
          "output_type": "error",
          "traceback": [
            "\u001b[31m---------------------------------------------------------------------------\u001b[39m",
            "\u001b[31mImportError\u001b[39m                               Traceback (most recent call last)",
            "\u001b[36mCell\u001b[39m\u001b[36m \u001b[39m\u001b[32mIn[6]\u001b[39m\u001b[32m, line 1\u001b[39m\n\u001b[32m----> \u001b[39m\u001b[32m1\u001b[39m \u001b[38;5;28;01mfrom\u001b[39;00m\u001b[38;5;250m \u001b[39m\u001b[34;01mpytamaro\u001b[39;00m\u001b[38;5;250m \u001b[39m\u001b[38;5;28;01mimport\u001b[39;00m rectangle, white, show_graphic\n\u001b[32m      3\u001b[39m height = \u001b[32m300\u001b[39m\n\u001b[32m      5\u001b[39m \u001b[38;5;66;03m# create a white rectangle with the given height and a width 3/2 times larger\u001b[39;00m\n",
            "\u001b[36mFile \u001b[39m\u001b[32m~/.local/lib/python3.11/site-packages/pytamaro/__init__.py:6\u001b[39m\n\u001b[32m      1\u001b[39m \u001b[33;03m\"\"\"\u001b[39;00m\n\u001b[32m      2\u001b[39m \u001b[33;03m(Re-)Export names from this top-level module for the public API.\u001b[39;00m\n\u001b[32m      3\u001b[39m \u001b[33;03m\"\"\"\u001b[39;00m\n\u001b[32m----> \u001b[39m\u001b[32m6\u001b[39m \u001b[38;5;28;01mfrom\u001b[39;00m\u001b[38;5;250m \u001b[39m\u001b[34;01mpytamaro\u001b[39;00m\u001b[34;01m.\u001b[39;00m\u001b[34;01mcolor\u001b[39;00m\u001b[38;5;250m \u001b[39m\u001b[38;5;28;01mimport\u001b[39;00m *\n\u001b[32m      7\u001b[39m \u001b[38;5;28;01mfrom\u001b[39;00m\u001b[38;5;250m \u001b[39m\u001b[34;01mpytamaro\u001b[39;00m\u001b[34;01m.\u001b[39;00m\u001b[34;01mcolor_functions\u001b[39;00m\u001b[38;5;250m \u001b[39m\u001b[38;5;28;01mimport\u001b[39;00m *\n\u001b[32m      8\u001b[39m \u001b[38;5;28;01mfrom\u001b[39;00m\u001b[38;5;250m \u001b[39m\u001b[34;01mpytamaro\u001b[39;00m\u001b[34;01m.\u001b[39;00m\u001b[34;01mcolor_names\u001b[39;00m\u001b[38;5;250m \u001b[39m\u001b[38;5;28;01mimport\u001b[39;00m *\n",
            "\u001b[36mFile \u001b[39m\u001b[32m~/.local/lib/python3.11/site-packages/pytamaro/color.py:8\u001b[39m\n\u001b[32m      5\u001b[39m \u001b[38;5;28;01mfrom\u001b[39;00m\u001b[38;5;250m \u001b[39m\u001b[34;01mdataclasses\u001b[39;00m\u001b[38;5;250m \u001b[39m\u001b[38;5;28;01mimport\u001b[39;00m dataclass\n\u001b[32m      6\u001b[39m \u001b[38;5;28;01mfrom\u001b[39;00m\u001b[38;5;250m \u001b[39m\u001b[34;01mfunctools\u001b[39;00m\u001b[38;5;250m \u001b[39m\u001b[38;5;28;01mimport\u001b[39;00m cached_property\n\u001b[32m----> \u001b[39m\u001b[32m8\u001b[39m \u001b[38;5;28;01mfrom\u001b[39;00m\u001b[38;5;250m \u001b[39m\u001b[34;01mskia\u001b[39;00m\u001b[38;5;250m \u001b[39m\u001b[38;5;28;01mimport\u001b[39;00m Color4f\n\u001b[32m     10\u001b[39m \u001b[38;5;28;01mfrom\u001b[39;00m\u001b[38;5;250m \u001b[39m\u001b[34;01mpytamaro\u001b[39;00m\u001b[34;01m.\u001b[39;00m\u001b[34;01mlocalization\u001b[39;00m\u001b[38;5;250m \u001b[39m\u001b[38;5;28;01mimport\u001b[39;00m translate\n\u001b[32m     13\u001b[39m \u001b[38;5;129m@dataclass\u001b[39m(frozen=\u001b[38;5;28;01mTrue\u001b[39;00m)\n\u001b[32m     14\u001b[39m \u001b[38;5;28;01mclass\u001b[39;00m\u001b[38;5;250m \u001b[39m\u001b[34;01mColor\u001b[39;00m:\n",
            "\u001b[31mImportError\u001b[39m: libEGL.so.1: cannot open shared object file: No such file or directory"
          ]
        }
      ],
      "source": [
        "from pytamaro import rectangle, white, show_graphic\n",
        "\n",
        "height = 300\n",
        "\n",
        "# create a white rectangle with the given height and a width 3/2 times larger\n",
        "background = rectangle(3/2*height, height, white)\n",
        "\n",
        "show_graphic(background)  # this shows your background"
      ]
    },
    {
      "cell_type": "code",
      "execution_count": null,
      "id": "0cef56ce",
      "metadata": {},
      "outputs": [
        {
          "data": {
            "application/vnd.jupyter.widget-view+json": {
              "model_id": "21a36d57e8654196aa6054dec821f22c",
              "version_major": 2,
              "version_minor": 0
            },
            "text/plain": [
              "Button(description='Commit & Push', style=ButtonStyle())"
            ]
          },
          "metadata": {},
          "output_type": "display_data"
        }
      ],
      "source": [
        "# Click this button to commit and push all your changes\n",
        "def git_push_button_clicked(b):\n",
        "    try:\n",
        "        timezone = ZoneInfo('Europe/Zurich')\n",
        "    except Exception as e:\n",
        "        print(f\"Error setting timezone: {e}. Defaulting to system time.\")\n",
        "        now = datetime.now()\n",
        "    else:\n",
        "        now = datetime.now(timezone)\n",
        "    timestamp = now.strftime(\"%Y-%m-%d %H:%M:%S\")\n",
        "    commit_message=f\"Submission at {timestamp}\"\n",
        "    try:\n",
        "        # Add all changes\n",
        "        subprocess.run(['git', 'add', '.'], check=True, capture_output=True, text=True)\n",
        "        print(\"Staged all changes.\")\n",
        "\n",
        "        # Commit changes\n",
        "        subprocess.run(['git', 'commit', '-m', commit_message], check=True, capture_output=True, text=True)\n",
        "        print(\"Committed changes.\")\n",
        "\n",
        "        # Push to the remote repository (assuming 'origin' and 'main' or 'master' branch)\n",
        "        subprocess.run(['git', 'push', 'origin', 'main'], check=True, capture_output=True, text=True)\n",
        "        print(\"Pushed to remote repository.\")\n",
        "\n",
        "        print(\"Git commit and push successful!\")\n",
        "    except subprocess.CalledProcessError as e:\n",
        "        print(\"An error occurred during git commands:\")\n",
        "        print(e.stderr)\n",
        "\n",
        "push_button = widgets.Button(description=\"Commit & Push\")\n",
        "push_button.on_click(git_push_button_clicked)\n",
        "display(push_button)"
      ]
    }
  ],
  "metadata": {
    "kernelspec": {
      "display_name": "Python 3",
      "language": "python",
      "name": "python3"
    },
    "language_info": {
      "codemirror_mode": {
        "name": "ipython",
        "version": 3
      },
      "file_extension": ".py",
      "mimetype": "text/x-python",
      "name": "python",
      "nbconvert_exporter": "python",
      "pygments_lexer": "ipython3",
      "version": "3.11.13"
    }
  },
  "nbformat": 4,
  "nbformat_minor": 5
}
