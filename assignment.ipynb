{
  "cells": [
    {
      "cell_type": "markdown",
      "id": "57f1beaf",
      "metadata": {},
      "source": [
        "# Introduction"
      ]
    },
    {
      "cell_type": "code",
      "execution_count": 1,
      "id": "b30e7f05",
      "metadata": {},
      "outputs": [
        {
          "name": "stdout",
          "output_type": "stream",
          "text": [
            "Hello World\n"
          ]
        }
      ],
      "source": [
        "print(\"Hello World\")"
      ]
    },
    {
      "cell_type": "code",
      "execution_count": 2,
      "id": "148ca29f",
      "metadata": {
        "tags": [
          "hide-input"
        ]
      },
      "outputs": [
        {
          "data": {
            "text/html": [
              "\n",
              "        <button onclick=\"IPython.notebook.kernel.execute('run_save_push()')\">\n",
              "            💾 Save + 📤 Push to GitHub\n",
              "        </button>\n",
              "    "
            ],
            "text/plain": [
              "<IPython.core.display.HTML object>"
            ]
          },
          "metadata": {},
          "output_type": "display_data"
        }
      ],
      "source": [
        "from IPython.display import display, HTML\n",
        "import time\n",
        "import os\n",
        "\n",
        "def button_html():\n",
        "    return HTML(\"\"\"\n",
        "        <button onclick=\"IPython.notebook.kernel.execute('run_save_push()')\">\n",
        "            💾 Save + 📤 Push to GitHub\n",
        "        </button>\n",
        "    \"\"\")\n",
        "\n",
        "def run_save_push():\n",
        "    timestamp = time.strftime(\"%Y-%m-%d %H:%M:%S\")\n",
        "    commit_message = f\"Auto-save at {timestamp}\"\n",
        "    os.system(\"git add .\")\n",
        "    os.system(f'git commit -m \"{commit_message}\"')\n",
        "    os.system(\"git push\")\n",
        "    print(f\"✅ Pushed to GitHub at {timestamp}\")\n",
        "\n",
        "display(button_html())\n"
      ]
    },
    {
      "cell_type": "code",
      "execution_count": null,
      "id": "6620d3a3",
      "metadata": {},
      "outputs": [],
      "source": []
    },
    {
      "cell_type": "code",
      "execution_count": null,
      "id": "7161601c",
      "metadata": {},
      "outputs": [],
      "source": []
    }
  ],
  "metadata": {
    "kernelspec": {
      "display_name": "Python 3",
      "language": "python",
      "name": "python3"
    },
    "language_info": {
      "codemirror_mode": {
        "name": "ipython",
        "version": 3
      },
      "file_extension": ".py",
      "mimetype": "text/x-python",
      "name": "python",
      "nbconvert_exporter": "python",
      "pygments_lexer": "ipython3",
      "version": "3.12.11"
    }
  },
  "nbformat": 4,
  "nbformat_minor": 5
}
