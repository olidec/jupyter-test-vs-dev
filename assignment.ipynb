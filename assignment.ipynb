{
  "cells": [
    {
      "cell_type": "markdown",
      "id": "57f1beaf",
      "metadata": {},
      "source": [
        "# Introduction"
      ]
    },
    {
      "cell_type": "code",
      "execution_count": 1,
      "id": "ec6aec73",
      "metadata": {},
      "outputs": [],
      "source": [
        "import ipywidgets as widgets\n",
        "from IPython.display import display\n",
        "import subprocess\n",
        "from datetime import datetime"
      ]
    },
    {
      "cell_type": "code",
      "execution_count": 2,
      "id": "b30e7f05",
      "metadata": {},
      "outputs": [
        {
          "name": "stdout",
          "output_type": "stream",
          "text": [
            "Hello World\n"
          ]
        }
      ],
      "source": [
        "print(\"Hello World\")"
      ]
    },
    {
      "cell_type": "markdown",
      "id": "fead2154",
      "metadata": {},
      "source": [
        "This is some new text"
      ]
    },
    {
      "cell_type": "code",
      "execution_count": 3,
      "id": "7161601c",
      "metadata": {},
      "outputs": [
        {
          "data": {
            "text/plain": [
              "4"
            ]
          },
          "execution_count": 3,
          "metadata": {},
          "output_type": "execute_result"
        }
      ],
      "source": [
        "2+2"
      ]
    },
    {
      "cell_type": "code",
      "execution_count": 4,
      "id": "40edf23d",
      "metadata": {},
      "outputs": [
        {
          "name": "stdout",
          "output_type": "stream",
          "text": [
            "0\n",
            "1\n",
            "2\n",
            "3\n"
          ]
        }
      ],
      "source": [
        "for i in range(4):\n",
        "    print(i)"
      ]
    },
    {
      "cell_type": "code",
      "execution_count": null,
      "id": "7c22dcdb",
      "metadata": {},
      "outputs": [],
      "source": []
    },
    {
      "cell_type": "code",
      "execution_count": 5,
      "id": "0cef56ce",
      "metadata": {},
      "outputs": [
        {
          "data": {
            "application/vnd.jupyter.widget-view+json": {
              "model_id": "6407e93f27ef4faca6ffb4cef272fde5",
              "version_major": 2,
              "version_minor": 0
            },
            "text/plain": [
              "Button(description='Commit & Push', style=ButtonStyle())"
            ]
          },
          "metadata": {},
          "output_type": "display_data"
        }
      ],
      "source": [
        "def git_push_button_clicked(b):\n",
        "    now = datetime.now()\n",
        "    timestamp = now.strftime(\"%Y-%m-%d %H:%M:%S\")\n",
        "    commit_message=f\"Submission at {timestamp}\"\n",
        "    try:\n",
        "        # Add all changes\n",
        "        subprocess.run(['git', 'add', '.'], check=True, capture_output=True, text=True)\n",
        "        print(\"Staged all changes.\")\n",
        "\n",
        "        # Commit changes\n",
        "        subprocess.run(['git', 'commit', '-m', commit_message], check=True, capture_output=True, text=True)\n",
        "        print(\"Committed changes.\")\n",
        "\n",
        "        # Push to the remote repository (assuming 'origin' and 'main' or 'master' branch)\n",
        "        subprocess.run(['git', 'push', 'origin', 'main'], check=True, capture_output=True, text=True)\n",
        "        print(\"Pushed to remote repository.\")\n",
        "\n",
        "        print(\"Git commit and push successful!\")\n",
        "    except subprocess.CalledProcessError as e:\n",
        "        print(\"An error occurred during git commands:\")\n",
        "        print(e.stderr)\n",
        "\n",
        "push_button = widgets.Button(description=\"Commit & Push\")\n",
        "push_button.on_click(git_push_button_clicked)\n",
        "display(push_button)"
      ]
    }
  ],
  "metadata": {
    "kernelspec": {
      "display_name": "Python 3",
      "language": "python",
      "name": "python3"
    },
    "language_info": {
      "codemirror_mode": {
        "name": "ipython",
        "version": 3
      },
      "file_extension": ".py",
      "mimetype": "text/x-python",
      "name": "python",
      "nbconvert_exporter": "python",
      "pygments_lexer": "ipython3",
      "version": "3.11.13"
    }
  },
  "nbformat": 4,
  "nbformat_minor": 5
}
